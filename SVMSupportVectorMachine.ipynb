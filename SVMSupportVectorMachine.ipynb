{
  "nbformat": 4,
  "nbformat_minor": 0,
  "metadata": {
    "colab": {
      "provenance": [],
      "collapsed_sections": [],
      "authorship_tag": "ABX9TyMkqsmGlqGdrQEAVz18R9mX",
      "include_colab_link": true
    },
    "kernelspec": {
      "name": "python3",
      "display_name": "Python 3"
    },
    "language_info": {
      "name": "python"
    }
  },
  "cells": [
    {
      "cell_type": "markdown",
      "metadata": {
        "id": "view-in-github",
        "colab_type": "text"
      },
      "source": [
        "<a href=\"https://colab.research.google.com/github/jaswanth-coder/MachineLearningNeeds/blob/main/SVMSupportVectorMachine.ipynb\" target=\"_parent\"><img src=\"https://colab.research.google.com/assets/colab-badge.svg\" alt=\"Open In Colab\"/></a>"
      ]
    },
    {
      "cell_type": "markdown",
      "source": [
        "**Support Vector Machine**\n",
        "\n",
        "1. used on high space dimensional values\n",
        "\n",
        "2. can used for classififcation and regression\n"
      ],
      "metadata": {
        "id": "A9vUxuyphARh"
      }
    },
    {
      "cell_type": "code",
      "execution_count": 1,
      "metadata": {
        "id": "B8kiFwX9WQCE"
      },
      "outputs": [],
      "source": [
        "from sklearn import datasets\n",
        "from sklearn.model_selection import train_test_split\n",
        "#SVM\n",
        "from sklearn import svm\n"
      ]
    },
    {
      "cell_type": "code",
      "source": [
        "#for accuracy printing\n",
        "from sklearn.metrics import accuracy_score"
      ],
      "metadata": {
        "id": "I8Uu07J0k-RC"
      },
      "execution_count": 2,
      "outputs": []
    },
    {
      "cell_type": "code",
      "source": [
        "iris=datasets.load_iris()\n",
        "x=iris.data\n",
        "y=iris.target"
      ],
      "metadata": {
        "id": "5K9qMwRDiM5i"
      },
      "execution_count": 3,
      "outputs": []
    },
    {
      "cell_type": "code",
      "source": [
        "classes=['Iris Setosa','Iris Versicolour','Iris Virginica']\n",
        "print(x.shape)\n",
        "print(y.shape)"
      ],
      "metadata": {
        "colab": {
          "base_uri": "https://localhost:8080/"
        },
        "id": "UAtHJpAeiZf7",
        "outputId": "121e0d7d-178b-4ea2-9859-a751666a92c2"
      },
      "execution_count": 4,
      "outputs": [
        {
          "output_type": "stream",
          "name": "stdout",
          "text": [
            "(150, 4)\n",
            "(150,)\n"
          ]
        }
      ]
    },
    {
      "cell_type": "code",
      "source": [
        "#Training and Testing the dataset\n",
        "x_train,x_test,y_train,y_test=train_test_split(x,y,test_size=0.2)\n",
        "model=svm.SVC()\n",
        "model.fit(x_train,y_train)\n",
        "print(model)\n",
        "\n",
        "#prediction\n",
        "prediction=model.predict(x_test)\n",
        "acc=accuracy_score(y_test,prediction)\n",
        "print(\"Prediction:\",prediction)\n",
        "print(\"actual:\",y_test)\n",
        "print(\"accuracy:\",acc)\n",
        "\n",
        "#for printing the value of the predicted values.\n",
        "for i in range(len(prediction)):\n",
        "       print(classes[prediction[i]])\n"
      ],
      "metadata": {
        "colab": {
          "base_uri": "https://localhost:8080/"
        },
        "id": "bgPQm5lCifuy",
        "outputId": "c0061fb2-eabb-4994-d7ff-3f09063cc069"
      },
      "execution_count": 7,
      "outputs": [
        {
          "output_type": "stream",
          "name": "stdout",
          "text": [
            "SVC()\n",
            "Prediction: [1 0 0 0 1 1 2 0 0 0 2 0 2 1 2 2 1 2 1 1 0 2 2 0 0 0 1 2 2 1]\n",
            "actual: [1 0 0 0 2 1 2 0 0 0 2 0 2 1 2 2 1 2 1 1 0 2 2 0 0 0 1 2 2 1]\n",
            "accuracy: 0.9666666666666667\n",
            "Iris Versicolour\n",
            "Iris Setosa\n",
            "Iris Setosa\n",
            "Iris Setosa\n",
            "Iris Versicolour\n",
            "Iris Versicolour\n",
            "Iris Virginica\n",
            "Iris Setosa\n",
            "Iris Setosa\n",
            "Iris Setosa\n",
            "Iris Virginica\n",
            "Iris Setosa\n",
            "Iris Virginica\n",
            "Iris Versicolour\n",
            "Iris Virginica\n",
            "Iris Virginica\n",
            "Iris Versicolour\n",
            "Iris Virginica\n",
            "Iris Versicolour\n",
            "Iris Versicolour\n",
            "Iris Setosa\n",
            "Iris Virginica\n",
            "Iris Virginica\n",
            "Iris Setosa\n",
            "Iris Setosa\n",
            "Iris Setosa\n",
            "Iris Versicolour\n",
            "Iris Virginica\n",
            "Iris Virginica\n",
            "Iris Versicolour\n"
          ]
        }
      ]
    }
  ]
}